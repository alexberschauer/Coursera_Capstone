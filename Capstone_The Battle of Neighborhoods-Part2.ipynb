{
 "cells": [
  {
   "cell_type": "markdown",
   "metadata": {},
   "source": [
    "# Capstone Project - The Battle of the Neighborhoods (Week 1) Data section\n",
    "##### by IBM/Coursera"
   ]
  },
  {
   "cell_type": "markdown",
   "metadata": {},
   "source": [
    "## 2. Data"
   ]
  },
  {
   "cell_type": "markdown",
   "metadata": {},
   "source": [
    "In this part we shall discuss the data and its sources that will be used to solve the problem\n",
    "\n",
    "#### Description of the Data:\n",
    "\n",
    "**The following data is required to answer the issues of the problem:**\n",
    "\n",
    "- List of Boroughs and neighborhoods of Manhattan, NY with their geodata including latitud and longitud.\n",
    "\n",
    "- List of metro stations in Manhattan, NY with their address.\n",
    "\n",
    "- List of apartments for rent in Manhattan, NY area with their addresses and price range with additional information, such number of beds, etc.\n",
    "\n",
    "- List of Venues for each Manhattan, NY neighborhood\n",
    "\n",
    "- List of Venues for metro stations.\n",
    "\n",
    "**How the data will be used to solve the problem The data will be used as follows:**\n",
    "\n",
    "- Use Foursquare and geopy data to map top 20 venues for all Manhattan, NY neighborhoods and cluster in groups.\n",
    "\n",
    "- Use Foursquare and geopy data to map the location of metro stations, with clustered map which will be able to identify the venues and amenities near each metro station.\n",
    "\n",
    "- Use Foursquare and geopy data to map the location of rental places, in some form, linked to the near metro stations.\n",
    "\n",
    "- create a map that depicts, for example, the average rental price in the area, around a radius of 2 km near each metro stations.\n",
    "\n",
    "I will be able to quickly point out the popups to know the relative price per metro station area. \n",
    "Addresses from rental locations will be converted to geodata( latitude , longitude) using Geopy-distance.\n",
    "\n",
    "Data will be searched in open data sources if available, for example, - the list of Manhattan neighborhoods has been already worked out during the LAb exercise in this course. \n",
    "A .csv file was created which will be read in order to create a dataframe and its mapping. So this data will be used as well. \n"
   ]
  },
  {
   "cell_type": "code",
   "execution_count": null,
   "metadata": {},
   "outputs": [],
   "source": []
  }
 ],
 "metadata": {
  "kernelspec": {
   "display_name": "Python",
   "language": "python",
   "name": "conda-env-python-py"
  },
  "language_info": {
   "codemirror_mode": {
    "name": "ipython",
    "version": 3
   },
   "file_extension": ".py",
   "mimetype": "text/x-python",
   "name": "python",
   "nbconvert_exporter": "python",
   "pygments_lexer": "ipython3",
   "version": "3.6.7"
  }
 },
 "nbformat": 4,
 "nbformat_minor": 4
}
