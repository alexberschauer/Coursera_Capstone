{
 "cells": [
  {
   "cell_type": "markdown",
   "metadata": {},
   "source": [
    "# Capstone Project - The Battle of the Neighborhoods (Week 1) \n",
    "##Part 1 Introduction/Business Problem\n",
    "##### by IBM/Coursera"
   ]
  },
  {
   "cell_type": "markdown",
   "metadata": {},
   "source": [
    "## 1. Introduction: Business Problem"
   ]
  },
  {
   "cell_type": "markdown",
   "metadata": {},
   "source": [
    "In this part we shall discuss the business problem and the audience who could be interested in the results of this project.\n",
    "\n",
    "\n",
    "**1.1 Scenario and Background**\n",
    "\n",
    "I am trying to get a data scientist, adding to my MBA degree, and currently living in Frankfurt-am-Main, Germany. \n",
    "I enjoy many amenities in the neighborhood , such as international cousine restaurants, cafes, food shops and some entertainment options. \n",
    "Recently, I have been offered a opportunity to work in New York, US. \n",
    "\n",
    "\n",
    "Well, I am really very excited about the future job, I am also a little stressed about to secure a comparable place to live in New York. \n",
    "Therefore, I decided to apply the learned skills during the IBM-Coursera course to explore possibilities to make sure my decision about changing place of living is factual and rewarding. \n",
    "I am pretty sure that there are alternatives to achieve the answer to my question using available media tools, but doing it myself with learned tools.\n",
    "\n",
    "\n",
    "\n",
    "\n",
    "**1.2 Problem to be resolved:**\n",
    "\n",
    "The challenge to resolve is being able to find a rental apartment in New York that offers similar characteristics and benefits to my current situation in Frankfurt. \n",
    "Therefore, in order to set a basis for comparison, I want to find a rental unit subject to the following conditions:\n",
    "\n",
    "- Apartment with min 3 bedrooms (we have 2 kids in our family)\n",
    "- Monthly rent of the apartment not to exceed US$3000/month\n",
    "- Flat should be located within walking distance (up to 2.0 km) from a subway metro station in New York\n",
    "- Area of the flat with amenities and venues some similar to the ones described for current location\n",
    "\n",
    "\n",
    "\n",
    "**1.3 Interested Audience**\n",
    "\n",
    "I think this is a relevant project for a person or family considering moving to the Big Apple, since the approach and methodologies used here are supposed to be applicable in all cases. \n",
    "The use of FourSquare data and mapping techniques combined with data analysis will help resolve the key questions. \n",
    "Lastly, this project is a good practical case to practice Data Science skills.\n",
    "\n"
   ]
  },
  {
   "cell_type": "markdown",
   "metadata": {},
   "source": [
    "## 2. Data"
   ]
  },
  {
   "cell_type": "markdown",
   "metadata": {},
   "source": [
    "In this part we shall discuss the data and its sources that will be used to solve the problem\n",
    "\n",
    "#### Description of the Data:\n",
    "\n",
    "**The following data is required to answer the issues of the problem:**\n",
    "\n",
    "- List of Boroughs and neighborhoods of Manhattan, NY with their geodata including latitud and longitud.\n",
    "\n",
    "- List of metro stations in Manhattan, NY with their address.\n",
    "\n",
    "- List of apartments for rent in Manhattan, NY area with their addresses and price range with additional information, such number of beds, etc.\n",
    "\n",
    "- List of Venues for each Manhattan, NY neighborhood\n",
    "\n",
    "- List of Venues for metro stations.\n",
    "\n",
    "**How the data will be used to solve the problem The data will be used as follows:**\n",
    "\n",
    "- Use Foursquare and geopy data to map top 20 venues for all Manhattan, NY neighborhoods and cluster in groups.\n",
    "\n",
    "- Use Foursquare and geopy data to map the location of metro stations, with clustered map which will be able to identify the venues and amenities near each metro station.\n",
    "\n",
    "- Use Foursquare and geopy data to map the location of rental places, in some form, linked to the near metro stations.\n",
    "\n",
    "- create a map that depicts, for example, the average rental price in the area, around a radius of 2 km near each metro stations.\n",
    "\n",
    "I will be able to quickly point out the popups to know the relative price per metro station area. \n",
    "Addresses from rental locations will be converted to geodata( latitude , longitude) using Geopy-distance.\n",
    "\n",
    "Data will be searched in open data sources if available, for example, - the list of Manhattan neighborhoods has been already worked out during the LAb exercise in this course. \n",
    "A .csv file was created which will be read in order to create a dataframe and its mapping. So this data will be used as well. \n"
   ]
  },
  {
   "cell_type": "code",
   "execution_count": null,
   "metadata": {},
   "outputs": [],
   "source": []
  }
 ],
 "metadata": {
  "kernelspec": {
   "display_name": "Python",
   "language": "python",
   "name": "conda-env-python-py"
  },
  "language_info": {
   "codemirror_mode": {
    "name": "ipython",
    "version": 3
   },
   "file_extension": ".py",
   "mimetype": "text/x-python",
   "name": "python",
   "nbconvert_exporter": "python",
   "pygments_lexer": "ipython3",
   "version": "3.6.7"
  }
 },
 "nbformat": 4,
 "nbformat_minor": 4
}
