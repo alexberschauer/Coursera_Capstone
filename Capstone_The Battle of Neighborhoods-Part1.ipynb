{
 "cells": [
  {
   "cell_type": "markdown",
   "metadata": {},
   "source": [
    "# Capstone Project - The Battle of the Neighborhoods (Week 1) \n",
    "## Part 1 Introduction/Business Problem\n",
    "##### by IBM/Coursera"
   ]
  },
  {
   "cell_type": "markdown",
   "metadata": {},
   "source": [
    "## 1. Introduction: Business Problem"
   ]
  },
  {
   "cell_type": "markdown",
   "metadata": {},
   "source": [
    "In this part we shall discuss the business problem and the audience who could be interested in the results of this project.\n",
    "\n",
    "\n",
    "**1.1 Scenario and Background**\n",
    "\n",
    "I am trying to get a data scientist, adding to my MBA degree, and currently living in Frankfurt-am-Main, Germany. \n",
    "I enjoy many amenities in the neighborhood , such as international cousine restaurants, cafes, food shops and some entertainment options. \n",
    "Recently, I have been offered a opportunity to work in New York, US. \n",
    "\n",
    "\n",
    "Well, I am really very excited about the future job, I am also a little stressed about to secure a comparable place to live in New York. \n",
    "Therefore, I decided to apply the learned skills during the IBM-Coursera course to explore possibilities to make sure my decision about changing place of living is factual and rewarding. \n",
    "I am pretty sure that there are alternatives to achieve the answer to my question using available media tools, but doing it myself with learned tools.\n",
    "\n",
    "\n",
    "\n",
    "\n",
    "**1.2 Problem to be resolved:**\n",
    "\n",
    "The challenge to resolve is being able to find a rental apartment in New York that offers similar characteristics and benefits to my current situation in Frankfurt. \n",
    "Therefore, in order to set a basis for comparison, I want to find a rental unit subject to the following conditions:\n",
    "\n",
    "- Apartment with min 3 bedrooms (we have 2 kids in our family)\n",
    "- Monthly rent of the apartment not to exceed US$3000/month\n",
    "- Flat should be located within walking distance (up to 2.0 km) from a subway metro station in New York\n",
    "- Area of the flat with amenities and venues some similar to the ones described for current location\n",
    "\n",
    "\n",
    "\n",
    "**1.3 Interested Audience**\n",
    "\n",
    "I think this is a relevant project for a person or family considering moving to the Big Apple, since the approach and methodologies used here are supposed to be applicable in all cases. \n",
    "The use of FourSquare data and mapping techniques combined with data analysis will help resolve the key questions. \n",
    "Lastly, this project is a good practical case to practice Data Science skills.\n",
    "\n"
   ]
  }
 ],
 "metadata": {
  "kernelspec": {
   "display_name": "Python",
   "language": "python",
   "name": "conda-env-python-py"
  },
  "language_info": {
   "codemirror_mode": {
    "name": "ipython",
    "version": 3
   },
   "file_extension": ".py",
   "mimetype": "text/x-python",
   "name": "python",
   "nbconvert_exporter": "python",
   "pygments_lexer": "ipython3",
   "version": "3.6.7"
  }
 },
 "nbformat": 4,
 "nbformat_minor": 4
}
